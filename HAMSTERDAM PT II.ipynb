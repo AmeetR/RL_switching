{
 "cells": [
  {
   "cell_type": "code",
   "execution_count": 1,
   "metadata": {},
   "outputs": [],
   "source": [
    "import numpy as np\n",
    "import gc"
   ]
  },
  {
   "cell_type": "code",
   "execution_count": 244,
   "metadata": {},
   "outputs": [],
   "source": [
    "# Global Variables\n",
    "\n",
    "timeout = 5000000\n",
    "threshold = 0.001"
   ]
  },
  {
   "cell_type": "code",
   "execution_count": 256,
   "metadata": {},
   "outputs": [],
   "source": [
    "def density_xor(d, stationary = True):\n",
    "    reward = lambda x, y, t: ( x ^ y if (x + y) % 10 < d  else 0 ) + \\\n",
    "                             ( 0 if stationary else min(x, y) / (max(x, y) + 1) * t )\n",
    "    return reward\n",
    "\n",
    "def mouse_reward(x, y, t):\n",
    "    return (x - y + t) % 7\n",
    "\n",
    "class Grid: \n",
    "    def __init__(self, edge_len = 25, start = (0,0), actions = lambda x: [ 'u', 'd', 'l', 'r' ], reward_func = density_xor(5) ):\n",
    "        self.start = start\n",
    "        self.reward_func = reward_func\n",
    "        self.edge, self.actions = edge_len, actions\n",
    "        \n",
    "    def transition(self, state, action, time):\n",
    "        x, y = state\n",
    "\n",
    "        if action == \"u\":\n",
    "            state = ( (x + 1) % self.edge, y )\n",
    "        elif action == \"d\":\n",
    "            state = ( (x - 1) % self.edge, y )\n",
    "        elif action == \"l\":\n",
    "            state = ( x, (y + 1) % self.edge )\n",
    "        elif action == \"r\":\n",
    "            state = ( x, (y - 1) % self.edge )\n",
    "\n",
    "        return self.reward_func(* state, time), state"
   ]
  },
  {
   "cell_type": "code",
   "execution_count": 257,
   "metadata": {},
   "outputs": [],
   "source": [
    "grid = Grid(25, reward_func = density_xor(5, False))"
   ]
  },
  {
   "cell_type": "code",
   "execution_count": 272,
   "metadata": {},
   "outputs": [],
   "source": [
    "from collections import defaultdict\n",
    "\n",
    "class agent: \n",
    "    def __init__( self, action_selection = None, alpha = 0.1, discount = 0.1, epsilon = 0.5 ):\n",
    "        self.q_vals, self.v_vals = defaultdict(lambda: 0), defaultdict(lambda: 0)\n",
    "        self.xis, self.last = defaultdict(lambda: 0), defaultdict(lambda: (0,0))\n",
    "        \n",
    "        self.alpha, self.epsilon, self.discount = alpha, epsilon, discount\n",
    "        if action_selection:\n",
    "            self.action_selection = action_selection\n",
    " \n",
    "    def max_action(self, state, time):\n",
    "        return max(self.grid.actions(state), key = lambda x: self.q_value(state, x, time))\n",
    "\n",
    "    def action_selection(self, state, time):\n",
    "        return self.max_action(state, time)\n",
    "    \n",
    "    def q_value(self, state, action, time):\n",
    "        return self.q_vals[(state, action)] + self.xis[(state, action)] * time\n",
    "    \n",
    "    def update_xi(self, state, action, reward, time):\n",
    "        previous, timestamp = self.last[(state, action)]\n",
    "        \n",
    "        if self.v_vals[state] > 0:\n",
    "            change = (reward - previous) / (time - timestamp)\n",
    "            self.xis[(state, action)] = (self.alpha * change) + (1 - self.alpha) * self.xis[(state, action)]\n",
    "        \n",
    "        self.last[(state, action)] = (reward, time)\n",
    "        return reward - ( self.xis[(state, action)] * time )\n",
    "    \n",
    "    def update(self, state, next_state, action, reward, time):        \n",
    "        max_q_val  = self.q_vals[( next_state, self.max_action(state, time) )]\n",
    "        previous, reward = self.q_vals[(state, action)], self.update_xi(state, action, reward, time)\n",
    "        \n",
    "        self.q_vals[(state, action)] = (1 - self.alpha) * previous + self.alpha * (reward + self.discount * (max_q_val))\n",
    "        self.v_vals[state] = self.v_vals[state] + 1\n",
    "        \n",
    "        delta = self.q_vals[(state, action)] - previous\n",
    "        return delta\n",
    "        \n",
    "    def play(self, grid):  \n",
    "        time, state = 0, grid.start\n",
    "        self.grid = grid\n",
    "        \n",
    "        TDEs = []\n",
    "        while (self.alpha > 0.01) and (time < timeout):\n",
    "            action = self.action_selection(self, state, time)\n",
    "            \n",
    "            reward, next_state = self.grid.transition(state, action, time)\n",
    "            delta = self.update(state, next_state, action, reward, time)\n",
    "            TDEs.append( abs(delta) )\n",
    "            \n",
    "            self.alpha = ( self.alpha * 0.999 ) if abs(delta) < threshold else min( self.alpha * 1.001, 1.0 )\n",
    "            state, time = next_state, time + 1\n",
    "            \n",
    "        return self.validate(), time, TDEs\n",
    "    \n",
    "    def validate(self):\n",
    "        average_reward, state = 0, self.grid.start\n",
    "        for p in range( self.grid.edge ** 4 ):\n",
    "            reward, state = self.grid.transition(state, self.max_action(state, p), p)   \n",
    "            average_reward = average_reward + reward\n",
    "        return average_reward / p"
   ]
  },
  {
   "cell_type": "code",
   "execution_count": 273,
   "metadata": {},
   "outputs": [],
   "source": [
    "def epsilon_greedy(self, state, time, epsilon = None):\n",
    "    max_action = max(self.grid.actions(state), key = lambda x: self.q_value(state, x, time))\n",
    "    return max_action if np.random.random() < (epsilon or self.epsilon) else np.random.choice( self.grid.actions(state) )\n",
    "\n",
    "def softmax(self, state, time, beta = 1):\n",
    "    q_vals = np.array([ self.q_value(state, a, time) for a in self.grid.actions(state) ])    \n",
    "    softmax = np.exp((q_vals * beta)) / (np.sum(np.exp(q_vals * beta)))\n",
    "    return np.random.choice( self.grid.actions(state), p = softmax )\n",
    "\n",
    "def boltzmann(self, state, time, epsilon = None):\n",
    "    return softmax(self, state, time, (epsilon or self.epsilon))\n",
    "    \n",
    "def mixture(self, state, time, epsilon = None):\n",
    "    return softmax(self, state, time) if np.random.random() < (epsilon or self.epsilon) else np.random.choice( self.grid.actions(state) )\n",
    "\n",
    "action_selection_strategies = [ epsilon_greedy, boltzmann, mixture ]"
   ]
  },
  {
   "cell_type": "code",
   "execution_count": 274,
   "metadata": {},
   "outputs": [
    {
     "name": "stdout",
     "output_type": "stream",
     "text": [
      "183549.70754617706 32090\n",
      "0.2377812398686491\n"
     ]
    },
    {
     "data": {
      "image/png": "[encoded data removed]",
      "text/plain": [
       "<Figure size 432x288 with 1 Axes>"
      ]
     },
     "metadata": {
      "needs_background": "light"
     },
     "output_type": "display_data"
    }
   ],
   "source": [
    "import matplotlib.pyplot as plt\n",
    "%matplotlib inline\n",
    "\n",
    "_agent = agent( epsilon_greedy )\n",
    "r, i, t = _agent.play( grid )\n",
    "\n",
    "print(r, i)\n",
    "\n",
    "difference = [ (min(* state) / (max(* state) + 1)) - _agent.xis[(state, action)] for state, action in _agent.xis ]\n",
    "print( np.sqrt( np.mean( np.array(difference) ** 2 ) ) )\n",
    "\n",
    "plt.plot(range(i), t)\n",
    "plt.show()"
   ]
  },
  {
   "cell_type": "code",
   "execution_count": 197,
   "metadata": {},
   "outputs": [
    {
     "data": {
      "image/png": "[encoded data removed]",
      "text/plain": [
       "<Figure size 432x288 with 1 Axes>"
      ]
     },
     "metadata": {
      "needs_background": "light"
     },
     "output_type": "display_data"
    }
   ],
   "source": [
    "def sigmoid(x, rho = 1):\n",
    "    return (np.exp(rho * x) / (1 + np.exp(rho * x)))\n",
    "\n",
    "plt.plot( range(-11, 11), [ sigmoid(i) for i in range(-11, 11) ] )\n",
    "plt.show()"
   ]
  },
  {
   "cell_type": "code",
   "execution_count": 9,
   "metadata": {},
   "outputs": [],
   "source": [
    "class inhomogenous_agent(agent):\n",
    "    def __init__( self, action_selection = None, alpha = 0.1, discount = 0.1, rhos = (1, 1), lags = -1 ):\n",
    "        super().__init__( action_selection, alpha, discount )\n",
    "\n",
    "        self.rho1, self.rho2 = rhos\n",
    "        self.TDES, self.L = [], lags\n",
    "            \n",
    "    def action_selection(self, state, randomness = None):\n",
    "        return super().action_selection(state, self.distribution(state))\n",
    "    \n",
    "    def update(self, state, next_state, action, reward, time):\n",
    "        delta = super().update( state, next_state, action, reward, time )\n",
    "        self.TDES.append(delta)\n",
    "        \n",
    "        if self.L > -1 and len(self.TDES) > self.L:\n",
    "            self.TDES.pop(0)\n",
    "        return delta\n",
    "    \n",
    "    def phi_explore(self, state):\n",
    "        state_len = len(self.q_vals) + 1\n",
    "        state_sum = np.sum([ self.v_vals[i] for i in self.v_vals ]) + 1\n",
    "        return sigmoid((1 / state_len) - ( self.v_vals[state] / state_sum ), self.rho1)\n",
    "    \n",
    "    def phi_exploit(self, state):\n",
    "        relative = self.TDES[-1] / np.sum(self.TDES)\n",
    "        return sigmoid(1 - (relative * len(self.TDES)), self.rho2)\n",
    "\n",
    "    def distribution(self, state):\n",
    "        epsilon = self.phi_exploit(state)\n",
    "        return epsilon / (epsilon + self.phi_explore(state))"
   ]
  },
  {
   "cell_type": "code",
   "execution_count": 24,
   "metadata": {
    "scrolled": true
   },
   "outputs": [
    {
     "name": "stdout",
     "output_type": "stream",
     "text": [
      "0.2846007238825473 4117 5.1474782631202225e-05\n"
     ]
    },
    {
     "data": {
      "image/png": "[encoded data removed]",
      "text/plain": [
       "<Figure size 432x288 with 1 Axes>"
      ]
     },
     "metadata": {
      "needs_background": "light"
     },
     "output_type": "display_data"
    }
   ],
   "source": [
    "_agent = inhomogenous_agent( mixture )\n",
    "r, i, t = _agent.play( grid )\n",
    "\n",
    "print(r, i, _agent.xi)\n",
    "\n",
    "plt.plot(range(i), t)\n",
    "plt.show()"
   ]
  },
  {
   "cell_type": "code",
   "execution_count": null,
   "metadata": {},
   "outputs": [],
   "source": [
    "from itertools import product\n",
    "from random import sample\n",
    "\n",
    "alpha = discount = density = np.arange(0.1, 1, 0.1)\n",
    "size, density = np.arange(5, 25, 5), np.arange(0.1, 1, 0.1)\n",
    "\n",
    "parameters = list( product(alpha, discount, size, density) )\n",
    "parameters = sample( parameters, len(parameters) // 10 )"
   ]
  },
  {
   "cell_type": "code",
   "execution_count": null,
   "metadata": {},
   "outputs": [],
   "source": [
    "from tqdm import tqdm\n",
    "import ray\n",
    "\n",
    "@ray.remote\n",
    "def run_scenario(strategy, parameter_set, inhomogenous):\n",
    "    size, density = parameter_set.pop(2), parameter_set.pop(2)\n",
    "    current_grid = Grid(size, reward_func = density_xor(density))\n",
    "    \n",
    "    current_agent = inhomogenous_agent(strategy, *parameter_set) if inhomogenous else agent(strategy, *parameter_set)\n",
    "    rewards, iterations = current_agent.play( current_grid )\n",
    "    return [ rewards, iterations ]\n",
    "    \n",
    "def test_agent(strategy, inhomogenous = False):\n",
    "    agent_parameters = product( np.arange(0, 10, 0.5), np.arange(0, 10, 0.5), range(-1, 10) ) if inhomogenous else product( np.arange(0.1, 1, 0.1) )\n",
    "    total_parameters = [ [*a, *b] for a, b in product( parameters, agent_parameters ) ]\n",
    "    \n",
    "    scenario = lambda x: run_scenario.remote(strategy, x, inhomogenous)\n",
    "    results  = [ scenario(x) for x in tqdm(total_parameters) ]\n",
    "    results  = ray.get( results )\n",
    "    \n",
    "    exogenous  = np.array( total_parameters, dtype = np.float32 )\n",
    "    endogenous = np.array( results, dtype = np.float32 )\n",
    "\n",
    "    endo_filename = descriptor + 'inhomogenous_endo.npy' if inhomogenous else '_endo.npy'\n",
    "    exog_filename = descriptor + 'inhomogenous_exog.npy' if inhomogenous else '_exog.npy'\n",
    "\n",
    "    np.save(endo_filename, endogenous)\n",
    "    np.save(exog_filename, exogenous)\n",
    "    \n",
    "    gc.collect()"
   ]
  },
  {
   "cell_type": "code",
   "execution_count": null,
   "metadata": {},
   "outputs": [],
   "source": [
    "ray.init()\n",
    "\n",
    "for strategy in action_selection_strategies:\n",
    "    test_agent(strategy, pool)\n",
    "    test_agent(strategy, pool, True)"
   ]
  },
  {
   "cell_type": "code",
   "execution_count": null,
   "metadata": {},
   "outputs": [],
   "source": []
  },
  {
   "cell_type": "code",
   "execution_count": null,
   "metadata": {},
   "outputs": [],
   "source": [
    "def B(d1, d2):\n",
    "    assert len(d1) == len(d2)\n",
    "    return sum([ np.sqrt(d1[i] * d2[i]) for i in range(len(d1)) ])\n",
    "\n",
    "def KL(d1, d2):\n",
    "    assert len(d1) == len(d2)\n",
    "    return sum([ d1[i] * np.log( d1[i] / d2[i] ) for i in range(len(d1)) ])\n",
    "\n",
    "def normalize(d):\n",
    "    d = d + abs(min(d))\n",
    "    return [ i / sum(d) for i in d ]\n",
    "\n",
    "def RMSE_q_values(agent, state):\n",
    "    q_values = [ agent.q_vals[( state, a)] for a in agent.grid.actions(state) ]\n",
    "    \n",
    "    next_state = [ agent.grid.transition(state, a)[1] for a in agent.grid.actions(state) ]\n",
    "    true_rwrds = [ ((x * y) + (x - 25)) / 25 for x, y in next_state ]\n",
    "    \n",
    "    return np.linalg.norm(np.array(q_values) - np.array(true_rwrds))\n",
    "\n",
    "def RMSE_total(agent):\n",
    "    return np.sqrt(np.mean([ RMSE_q_values(agent, (i, j)) for i in range(agent.grid.edge) for j in range(agent.grid.edge) ]))"
   ]
  },
  {
   "cell_type": "code",
   "execution_count": null,
   "metadata": {
    "scrolled": true
   },
   "outputs": [],
   "source": [
    "X, Y, Z, T = [], [], [], []\n",
    "\n",
    "N = 1000\n",
    "f = B #KL\n",
    "\n",
    "for epsilon in tqdm(range(1, 11)):\n",
    "    beta = epsilon / 10\n",
    "    a, b, c = 0, 0, 0\n",
    "    \n",
    "    for i in range(N):\n",
    "        rand_vec = np.random.random( 25 * 25 )\n",
    "    \n",
    "        boltz = np.exp(rand_vec * beta)/np.sum(np.exp(rand_vec * beta))\n",
    "        mixy  = (1 - beta) *  np.exp(rand_vec)/np.sum(np.exp(rand_vec)) + (beta) * 1 / (rand_vec.shape[0])\n",
    "        greed = (1 - beta) * (rand_vec == max(rand_vec)).astype(\"int\")  + (beta) * 1 / (rand_vec.shape[0])\n",
    "        \n",
    "        a = a + f(boltz, mixy)\n",
    "        b = b + f(boltz, greed)\n",
    "        c = c + f(mixy, greed)\n",
    "\n",
    "    X += [(10 - epsilon) / 10]\n",
    "    Y += [a / N]\n",
    "    Z += [b / N]\n",
    "    T += [c / N]\n",
    "\n",
    "plt.plot(X, Y, \"g\")\n",
    "plt.plot(X, Z, \"r\")\n",
    "plt.plot(X, T, \"b\")\n",
    "plt.show()"
   ]
  },
  {
   "cell_type": "code",
   "execution_count": null,
   "metadata": {},
   "outputs": [],
   "source": []
  },
  {
   "cell_type": "code",
   "execution_count": null,
   "metadata": {},
   "outputs": [],
   "source": []
  }
 ],
 "metadata": {
  "kernelspec": {
   "display_name": "Python 3",
   "language": "python",
   "name": "python3"
  },
  "language_info": {
   "codemirror_mode": {
    "name": "ipython",
    "version": 3
   },
   "file_extension": ".py",
   "mimetype": "text/x-python",
   "name": "python",
   "nbconvert_exporter": "python",
   "pygments_lexer": "ipython3",
   "version": "3.6.4"
  }
 },
 "nbformat": 4,
 "nbformat_minor": 2
}
