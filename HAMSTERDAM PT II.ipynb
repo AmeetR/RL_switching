{
 "cells": [
  {
   "cell_type": "code",
   "execution_count": 2,
   "metadata": {},
   "outputs": [],
   "source": [
    "import numpy as np\n",
    "from tqdm import tqdm\n",
    "import matplotlib.pyplot as plt\n",
    "%matplotlib inline"
   ]
  },
  {
   "cell_type": "code",
   "execution_count": 3,
   "metadata": {},
   "outputs": [],
   "source": [
    "#Global Variables\n",
    "timeout = 500 * 1000\n",
    "delta_threshold = 0.1"
   ]
  },
  {
   "cell_type": "code",
   "execution_count": 4,
   "metadata": {},
   "outputs": [],
   "source": [
    "def density_xor(d):\n",
    "    reward = lambda x, y: x ^ y if (x + y) % 10 < d else np.random.uniform(-1, 0)\n",
    "    return reward\n",
    "\n",
    "class Grid: \n",
    "    def __init__(self, edge_len, start = (0,0), actions = lambda x: [ 'l', 'd', 'u', 'r' ], reward_func = density_xor(5) ):\n",
    "        self.edge = edge_len\n",
    "        self.actions = actions\n",
    "        self.start = start\n",
    "        self.reward_func = reward_func\n",
    "        \n",
    "    def transition(self, state, action):\n",
    "        x, y = state\n",
    "\n",
    "        if action == \"u\":\n",
    "            state = ( (x + 1) % self.edge, y )\n",
    "        elif action == \"d\":\n",
    "            state = ( (x - 1) % self.edge, y )\n",
    "        elif action == \"l\":\n",
    "            state = ( x, (y + 1) % self.edge )\n",
    "        elif action == \"r\":\n",
    "            state = ( x, (y - 1) % self.edge )\n",
    "\n",
    "        return self.reward_func(* state), state"
   ]
  },
  {
   "cell_type": "code",
   "execution_count": null,
   "metadata": {},
   "outputs": [],
   "source": [
    "\n",
    "\"\"\"\n",
    "        if x == 0:\n",
    "            reward = 1\n",
    "        elif x == 14 and (y == 13 or y == 14):\n",
    "            reward = 100\n",
    "        else:\n",
    "            reward = 1 / (abs(x - 14) + abs(y - 13)) / 5\n",
    "        \n",
    "        # class MarkovGrid(Grid):\n",
    "    def __init__(self, edge_len, pi, actions = lambda x: [ 0, 1 ]):\n",
    "        super().__init__(edge_len)\n",
    "        self.markov_state = 0\n",
    "        self.pi = pi\n",
    "        self.actions = actions\n",
    "        \n",
    "    def transition(self, state, action):\n",
    "        reward = (self.markov_state ^ action) * np.random.uniform(-2, 2)\n",
    "        self.markov_state = 0 if np.random.random() < self.pi[self.markov_state, 0] else 1\n",
    "        return reward, state\n",
    "\n",
    "    def initialize_q(self, grid):\n",
    "        self.q_vals = {}\n",
    "        for state in [ (i, j) for i in range(grid.edge) for j in range(grid.edge) ]:\n",
    "            for action in grid.actions(state):\n",
    "                self.q_vals[( state, action )] = 0.0\n",
    "        return grid\n",
    "\"\"\""
   ]
  },
  {
   "cell_type": "code",
   "execution_count": 5,
   "metadata": {},
   "outputs": [
    {
     "data": {
      "image/png": "[encoded data removed]",
      "text/plain": [
       "<Figure size 432x288 with 1 Axes>"
      ]
     },
     "metadata": {
      "needs_background": "light"
     },
     "output_type": "display_data"
    }
   ],
   "source": [
    "# Editorial Note: low rho make slow\n",
    "def sigmoid(x, rho = 1):\n",
    "    return (np.exp(rho * x) / (1 + np.exp(rho * x)))\n",
    "\n",
    "plt.plot( range(-11, 11), [ sigmoid(i) for i in range(-11, 11) ] )\n",
    "plt.show()"
   ]
  },
  {
   "cell_type": "code",
   "execution_count": 6,
   "metadata": {},
   "outputs": [],
   "source": [
    "from collections import defaultdict\n",
    "\n",
    "class agent: \n",
    "    def __init__( self, alpha = 0.1, epsilon = 0.5, discount = 0.1, rhos = (1, 1), lags = -1 ) -> None:\n",
    "        self.q_vals, self.v_vals = defaultdict(lambda: 0), defaultdict(lambda: 0)\n",
    "        self.alpha, self.epsilon, self.discount = alpha, epsilon, discount\n",
    "        self.rho1, self.rho2 = rhos\n",
    "\n",
    "        self.TDES, self.L = [0], lags\n",
    " \n",
    "    def update(self, state, next_state, action, reward) -> float: \n",
    "        max_qval = max([ self.q_vals[(next_state, a)] for a in self.grid.actions(next_state) ])\n",
    "        previous = self.q_vals[(state, action)]\n",
    "        \n",
    "        self.q_vals[(state, action)] = (1 - self.alpha) * previous + self.alpha * (reward + self.discount * (max_qval))\n",
    "        self.v_vals[state] = self.v_vals[state] + 1\n",
    "        \n",
    "        delta = abs( self.q_vals[(state, action)] - previous )\n",
    "        self.TDES.append(delta)\n",
    "        \n",
    "        if self.L > -1 and len(self.TDES) > self.L:\n",
    "            self.TDES.pop(0)\n",
    "        return delta\n",
    "        \n",
    "    def epsilon_greedy(self, state) -> str:\n",
    "        max_action = max(self.grid.actions(state), key = lambda x: self.q_vals[(state, x)])\n",
    "        return max_action if np.random.random() < self.epsilon else np.random.choice( self.grid.actions(state) )\n",
    "        \n",
    "    def softmax(self, state, beta = 1) -> str:\n",
    "        q_vals = np.array( [ self.q_vals[(state, a)] for a in self.grid.actions(state) ])\n",
    "        softmax = np.exp((q_vals * beta)) / (np.sum(np.exp(q_vals * beta)))\n",
    "        return np.random.choice( self.grid.actions(state), p = softmax )\n",
    "    \n",
    "    def boltzmann(self, state) -> str:\n",
    "        return self.softmax(state, beta = self.epsilon)\n",
    "    \n",
    "    def mixture(self, state, epsilon = None) -> str:\n",
    "        epsilon = epsilon or self.epsilon\n",
    "        return self.softmax(state) if np.random.random() < epsilon else np.random.choice( self.grid.actions(state) )\n",
    "    \n",
    "    def phi_explore(self, state):\n",
    "        state_len = len(self.q_vals) + 1\n",
    "        state_sum = np.sum([ self.v_vals[i] for i in self.v_vals ]) + 1\n",
    "        return sigmoid((1 / state_len) - ( self.v_vals[state] / state_sum ), self.rho1)\n",
    "    \n",
    "    def phi_exploit(self, state):\n",
    "        relative = self.TDES[-1] / np.sum(self.TDES)\n",
    "        return sigmoid(1 - (relative * len(self.TDES)), self.rho2)\n",
    "\n",
    "    def inhomogeniety(self, state):\n",
    "        epsilon = self.phi_exploit(state)\n",
    "        return epsilon / (epsilon + self.phi_explore(state))\n",
    "        \n",
    "    def inhomogenous_greedy(self, state) -> str:\n",
    "        max_action = max(self.grid.actions(state), key = lambda x: self.q_vals[(state, x)])\n",
    "        return max_action if np.random.random() < self.inhomogeniety(state) else np.random.choice( self.grid.actions(state) )\n",
    "        \n",
    "    def inhomogenous_boltzmann(self, state) -> str:\n",
    "        return self.softmax(state, beta = self.inhomogeniety(state))\n",
    "    \n",
    "    def inhomogenous_mixture(self, state) -> str:\n",
    "        return self.softmax(state) if np.random.random() < self.inhomogeniety(state) else np.random.choice( self.grid.actions(state) )\n",
    "        \n",
    "    def play(self, grid, action_selection, limit):  \n",
    "        converge, i, state = 0, 0, grid.start\n",
    "        self.grid = grid\n",
    "        \n",
    "        while (converge < limit) and (i < timeout):\n",
    "            action = action_selection(self, state)\n",
    "            reward, next_state = self.grid.transition(state, action)\n",
    "\n",
    "            delta = self.update(state, next_state, action, reward)\n",
    "            converge = converge + 1\n",
    "            if delta > delta_threshold:\n",
    "                converge = 0\n",
    "            \n",
    "            state, i = next_state, i + 1\n",
    "            self.alpha = self.alpha * 0.9995\n",
    "        \n",
    "        average_reward, self.epsilon = 0, 0.9\n",
    "        for p in range(limit // 2):\n",
    "            action = self.epsilon_greedy(state)\n",
    "            reward, state = self.grid.transition(state, action)     \n",
    "            average_reward = average_reward + reward\n",
    "        \n",
    "        return i, (2 / limit) * average_reward\n",
    "    \n",
    "    def reset(self):\n",
    "        self.q_vals, self.v_vals = defaultdict(lambda: 0), defaultdict(lambda: 0)"
   ]
  },
  {
   "cell_type": "code",
   "execution_count": null,
   "metadata": {},
   "outputs": [],
   "source": [
    "grid = Grid(50) # MarkovGrid( 1, np.array([0.5, 0.5, 0.5, 0.5]).reshape((2, 2)) )"
   ]
  },
  {
   "cell_type": "code",
   "execution_count": null,
   "metadata": {
    "scrolled": true
   },
   "outputs": [],
   "source": [
    "_agent = agent()\n",
    "_agent.play( grid, agent.inhomogenous_greedy, 100 )"
   ]
  },
  {
   "cell_type": "code",
   "execution_count": 7,
   "metadata": {},
   "outputs": [],
   "source": [
    "import gc\n",
    "\n",
    "def select_parameters( params ):\n",
    "    params.sort(key = lambda x: np.random.random() )\n",
    "    return params[: len(params) // 10 ]\n",
    "\n",
    "alpha_discount = select_parameters([ (i / 10, j / 10) for i in range(1, 10) for j in range(1, 10) ])\n",
    "rhos = select_parameters([ (i / 10, j / 10) for i in range(1, 200, 10) for j in range(1, 200, 10) ])\n",
    "\n",
    "size_limit = select_parameters([ (i, 10**j) for i in range(5, 50) for j in range(1, 5) ])\n",
    "\n",
    "def test_agent( action, descriptor = 'agent' ):\n",
    "    gc.collect()\n",
    "    endogenous, exogenous = [], []\n",
    "\n",
    "    for r1, r2 in tqdm(rhos):\n",
    "        for L in range(-1, 50, 10):\n",
    "            for alpha, discount in alpha_discount:\n",
    "                _agent = agent(alpha = alpha, discount = discount, rhos = (r1, r2), lags = L)\n",
    "\n",
    "                exog, endo = [], []\n",
    "                for size, limit in size_limit:\n",
    "                    for density in range(1, 10, 2):\n",
    "                        _grid = Grid(size, reward_func = density_xor(density))\n",
    "\n",
    "                        iterations, rewards = _agent.play( _grid, action, limit )\n",
    "\n",
    "                        endo.append([ rewards, iterations ])\n",
    "                        exog.append([ alpha, discount, r1, r2, L, size, limit ])\n",
    "\n",
    "                endo.sort( key = lambda x: np.random.random() )\n",
    "                exog.sort( key = lambda x: np.random.random() )\n",
    "\n",
    "                exogenous.extend( exog[: len(exog) // 10 ] )\n",
    "                endogenous.extend( endo[: len(endo) // 10 ] )\n",
    "\n",
    "    endogenous = np.array( endogenous, dtype = np.float32 )\n",
    "    exogenous  = np.array( exogenous,  dtype = np.float32 )\n",
    "\n",
    "    endo_filename = descriptor + '_endo.npy'\n",
    "    exog_filename = descriptor + '_exog.npy'\n",
    "    np.save(endo_filename, endogenous)\n",
    "    np.save(exog_filename, exogenous)\n",
    "\n",
    "    gc.collect()"
   ]
  },
  {
   "cell_type": "code",
   "execution_count": null,
   "metadata": {},
   "outputs": [
    {
     "name": "stderr",
     "output_type": "stream",
     "text": [
      "  0%|          | 0/40 [00:00<?, ?it/s]/home/ameet/anaconda3/envs/int_dim/lib/python3.7/site-packages/ipykernel_launcher.py:47: RuntimeWarning: invalid value encountered in long_scalars\n",
      "/home/ameet/anaconda3/envs/int_dim/lib/python3.7/site-packages/ipykernel_launcher.py:47: RuntimeWarning: invalid value encountered in long_scalars\n",
      "/home/ameet/anaconda3/envs/int_dim/lib/python3.7/site-packages/ipykernel_launcher.py:47: RuntimeWarning: invalid value encountered in long_scalars\n",
      "  0%|          | 0/40 [00:00<?, ?it/s]\n",
      "100%|██████████| 40/40 [58:42<00:00, 88.06s/it]t]\n",
      " 32%|███▎      | 13/40 [1:24:23<2:37:35, 350.19s/it]/home/ameet/anaconda3/envs/int_dim/lib/python3.7/site-packages/ipykernel_launcher.py:47: RuntimeWarning: invalid value encountered in double_scalars\n",
      " 38%|███▊      | 15/40 [1:35:42<2:23:33, 344.54s/it]/home/ameet/anaconda3/envs/int_dim/lib/python3.7/site-packages/ipykernel_launcher.py:47: RuntimeWarning: invalid value encountered in double_scalars\n",
      "100%|██████████| 40/40 [3:57:13<00:00, 355.83s/it]it]\n",
      "100%|██████████| 40/40 [3:57:28<00:00, 356.22s/it]\n",
      " 15%|█▌        | 6/40 [10:32:04<59:17:40, 6278.25s/it]"
     ]
    }
   ],
   "source": [
    "from multiprocessing import Pool\n",
    "\n",
    "actions = [(agent.boltzmann, 'boltzmann'), \\\n",
    "           (agent.epsilon_greedy, 'egreedy'), \\\n",
    "           (agent.inhomogenous_boltzmann, 'i_boltzmann'), \\\n",
    "           (agent.inhomogenous_greedy, 'i_greedy'), \\\n",
    "           (agent.inhomogenous_mixture, 'i_mixture'), \\\n",
    "           (agent.mixture, 'mixture'), ]\n",
    "\n",
    "gc.collect()\n",
    "\n",
    "def run_test(x):\n",
    "    return test_agent(* x)\n",
    "\n",
    "pool = Pool()\n",
    "pool.map( run_test, actions, chunksize = 1 )\n",
    "pool.close()\n"
   ]
  },
  {
   "cell_type": "code",
   "execution_count": null,
   "metadata": {},
   "outputs": [],
   "source": [
    "from statsmodels.api import OLS\n",
    "\n",
    "def effect_estimation( descriptor ):\n",
    "    endo_filename = descriptor + '_endo.npy'\n",
    "    exog_filename = descriptor + '_exog.npy'\n",
    "    \n",
    "    endogenous = np.load(endo_filename)\n",
    "    exogenous  = np.save(exog_filename)\n",
    "    \n",
    "    return OLS(exogenous, endogenous).fit().summary()"
   ]
  },
  {
   "cell_type": "code",
   "execution_count": null,
   "metadata": {},
   "outputs": [],
   "source": [
    "for _, filename in actions:\n",
    "    print( effect_estimator( filename ) )"
   ]
  },
  {
   "cell_type": "code",
   "execution_count": null,
   "metadata": {},
   "outputs": [],
   "source": [
    "def B(d1, d2):\n",
    "    assert len(d1) == len(d2)\n",
    "    return sum([ np.sqrt(d1[i] * d2[i]) for i in range(len(d1)) ])\n",
    "\n",
    "def KL(d1, d2):\n",
    "    assert len(d1) == len(d2)\n",
    "    return sum([ d1[i] * np.log( d1[i] / d2[i] ) for i in range(len(d1)) ])\n",
    "\n",
    "def normalize(d):\n",
    "    d = d + abs(min(d))\n",
    "    return [ i / sum(d) for i in d ]\n",
    "\n",
    "def RMSE_q_values(agent, state):\n",
    "    q_values = [ agent.q_vals[( state, a)] for a in agent.grid.actions(state) ]\n",
    "    \n",
    "    next_state = [ agent.grid.transition(state, a)[1] for a in agent.grid.actions(state) ]\n",
    "    true_rwrds = [ ((x * y) + (x - 25)) / 25 for x, y in next_state ]\n",
    "    \n",
    "    return np.linalg.norm(np.array(q_values) - np.array(true_rwrds))\n",
    "\n",
    "def RMSE_total(agent):\n",
    "    return np.sqrt(np.mean([ RMSE_q_values(agent, (i, j)) for i in range(agent.grid.edge) for j in range(agent.grid.edge) ]))"
   ]
  },
  {
   "cell_type": "code",
   "execution_count": null,
   "metadata": {},
   "outputs": [],
   "source": [
    "boltzma_list = []\n",
    "egreedy_list = []\n",
    "mixture_list = []\n",
    "\n",
    "for i in tqdm(range(1, 20)):\n",
    "    converge_limit = int(3 ** (i / 2)) \n",
    "    mix, greed, boltz = agent(grid), agent(grid), agent(grid)\n",
    "    \n",
    "    mixture_list.append( ( *mix.play( (0,1), mix.inhomogenous_mixture, True ), RMSE_total(mix)) )\n",
    "    egreedy_list.append( ( *greed.play( (0,1), greed.epsilon_greedy, True), RMSE_total(greed)) )\n",
    "    boltzma_list.append( ( *boltz.play( (0,1), boltz.boltzmann, True), RMSE_total(boltz)) )\n"
   ]
  },
  {
   "cell_type": "code",
   "execution_count": null,
   "metadata": {},
   "outputs": [],
   "source": [
    "X = [ 3**(x / 2) for x in range(1, 20) ]\n",
    "\n",
    "plt.plot(X, [i[1] for i in egreedy_list], \"r\", X, [i[1] for i in boltzma_list], \"b\", X, [i[1] for i in mixture_list], \"g\")\n",
    "plt.title(\"Average Reward\")\n",
    "plt.show()\n",
    "\n",
    "plt.plot(X, [i[0] for i in egreedy_list], \"r\", X, [i[0] for i in boltzma_list], \"b\", X, [i[0] for i in mixture_list], \"g\")\n",
    "plt.title(\"Convergence (in Rounds)\")\n",
    "plt.show()\n",
    "\n",
    "plt.plot(X, [i[2] for i in egreedy_list], \"r\", X, [i[2] for i in boltzma_list], \"b\", X, [i[2] for i in mixture_list], \"g\")\n",
    "plt.title(\"RMSE of Q-Values from True Expectation\")\n",
    "plt.show()"
   ]
  },
  {
   "cell_type": "code",
   "execution_count": null,
   "metadata": {},
   "outputs": [],
   "source": [
    "print(boltzmann_list)"
   ]
  },
  {
   "cell_type": "code",
   "execution_count": null,
   "metadata": {},
   "outputs": [],
   "source": []
  },
  {
   "cell_type": "code",
   "execution_count": null,
   "metadata": {
    "scrolled": true
   },
   "outputs": [],
   "source": [
    "X, Y, Z, T = [], [], [], []\n",
    "\n",
    "N = 1000\n",
    "f = B #KL\n",
    "\n",
    "for epsilon in tqdm(range(1, 11)):\n",
    "    beta = epsilon / 10\n",
    "    a, b, c = 0, 0, 0\n",
    "    \n",
    "    for i in range(N):\n",
    "        rand_vec = np.random.random( 25 * 25 )\n",
    "    \n",
    "        boltz = np.exp(rand_vec * beta)/np.sum(np.exp(rand_vec * beta))\n",
    "        mixy  = (1 - beta) *  np.exp(rand_vec)/np.sum(np.exp(rand_vec)) + (beta) * 1 / (rand_vec.shape[0])\n",
    "        greed = (1 - beta) * (rand_vec == max(rand_vec)).astype(\"int\")  + (beta) * 1 / (rand_vec.shape[0])\n",
    "        \n",
    "        a = a + f(boltz, mixy)\n",
    "        b = b + f(boltz, greed)\n",
    "        c = c + f(mixy, greed)\n",
    "\n",
    "    X += [(10 - epsilon) / 10]\n",
    "    Y += [a / N]\n",
    "    Z += [b / N]\n",
    "    T += [c / N]\n",
    "\n",
    "plt.plot(X, Y, \"g\")\n",
    "plt.plot(X, Z, \"r\")\n",
    "plt.plot(X, T, \"b\")\n",
    "plt.show()"
   ]
  },
  {
   "cell_type": "code",
   "execution_count": null,
   "metadata": {},
   "outputs": [],
   "source": []
  },
  {
   "cell_type": "code",
   "execution_count": null,
   "metadata": {},
   "outputs": [],
   "source": []
  }
 ],
 "metadata": {
  "kernelspec": {
   "display_name": "Python 3",
   "language": "python",
   "name": "python3"
  },
  "language_info": {
   "codemirror_mode": {
    "name": "ipython",
    "version": 3
   },
   "file_extension": ".py",
   "mimetype": "text/x-python",
   "name": "python",
   "nbconvert_exporter": "python",
   "pygments_lexer": "ipython3",
   "version": "3.7.5"
  }
 },
 "nbformat": 4,
 "nbformat_minor": 2
}
